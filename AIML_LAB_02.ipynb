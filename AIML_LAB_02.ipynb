{
  "cells": [
    {
      "cell_type": "markdown",
      "metadata": {
        "id": "view-in-github",
        "colab_type": "text"
      },
      "source": [
        "<a href=\"https://colab.research.google.com/github/Sirichunchu23/Aiml-2303A51281/blob/main/Untitled0.ipynb\" target=\"_parent\"><img src=\"https://colab.research.google.com/assets/colab-badge.svg\" alt=\"Open In Colab\"/></a>"
      ]
    },
    {
      "cell_type": "markdown",
      "metadata": {
        "id": "_TnQ2GF04NNn"
      },
      "source": [
        "**Lab 02:Implement AI Search**"
      ]
    },
    {
      "cell_type": "markdown",
      "metadata": {
        "id": "DeIdh8tQYunB"
      },
      "source": [
        "Part-01:Implement Breadth First Search Algorithm"
      ]
    },
    {
      "cell_type": "markdown",
      "metadata": {
        "id": "4yYTTJMH38et"
      },
      "source": [
        "![WhatsApp Image 2024-08-06 at 09.36.53_46efdeba.jpg](data:image/jpeg;base64,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)"
      ]
    },
    {
      "cell_type": "code",
      "execution_count": null,
      "metadata": {
        "colab": {
          "base_uri": "https://localhost:8080/"
        },
        "id": "XB372K-NUFyl",
        "outputId": "0b7f5718-0cbf-4e47-8ae6-fa6013d6c091"
      },
      "outputs": [
        {
          "name": "stdout",
          "output_type": "stream",
          "text": [
            "The adjacency List representing the graph is:\n",
            "{0: [1, 2, 3], 1: [0, 2], 2: [0, 1, 3, 5], 3: [0, 2, 4], 4: [3, 5, 7], 5: [4, 6, 7], 6: [5, 7], 7: [4, 5, 6], 8: []}\n",
            "BFS traversal of graph with source 0is:\n",
            "0-->1-->2-->3-->5-->4-->6-->7-->"
          ]
        }
      ],
      "source": [
        "import numpy as np\n",
        "from queue import Queue\n",
        "graph={0:[1,2,3],1:[0,2],2:[0,1,3,5],3:[0,2,4],4:[3,5,7],5:[4,6,7],6:[5,7],7:[4,5,6],8:[]}\n",
        "print(\"The adjacency List representing the graph is:\")\n",
        "print(graph)\n",
        "def bfs(graph,source):\n",
        "  Q=Queue()\n",
        "  visited_vertices=set()\n",
        "  Q.put(source)\n",
        "  visited_vertices.update({source})\n",
        "  while not Q.empty():\n",
        "    vertex=Q.get()\n",
        "    print(vertex,end=\"-->\")\n",
        "    for u in graph[vertex]:\n",
        "      if u not in visited_vertices:\n",
        "        Q.put(u)\n",
        "        visited_vertices.update({u})\n",
        "print(\"BFS traversal of graph with source 0is:\")\n",
        "bfs(graph,0)"
      ]
    },
    {
      "cell_type": "markdown",
      "metadata": {
        "id": "jd_2NGGdUVSt"
      },
      "source": [
        "Part-02:Implement Depth First Search Algorithm"
      ]
    },
    {
      "cell_type": "markdown",
      "metadata": {
        "id": "q_HolJrnUV-I"
      },
      "source": [
        "![WhatsApp Image 2024-08-06 at 20.56.55_518ca253.jpg](data:image/jpeg;base64,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)"
      ]
    },
    {
      "cell_type": "code",
      "execution_count": null,
      "metadata": {
        "colab": {
          "base_uri": "https://localhost:8080/"
        },
        "id": "GDWUCaKAUhOt",
        "outputId": "dea7fb51-25e6-43f3-8d35-910686b1d9ad"
      },
      "outputs": [
        {
          "name": "stdout",
          "output_type": "stream",
          "text": [
            "The adjacency List representing the graph is:\n",
            "{'A': ['C', 'D', 'G'], 'B': ['A'], 'C': ['A', 'D', 'F'], 'D': ['A', 'C', 'E', 'G', 'H'], 'E': ['D', 'F', 'H'], 'F': ['C', 'E'], 'G': ['A', 'D', 'H'], 'H': ['D', 'E', 'G']}\n",
            "['B', 'A', 'C', 'D', 'E', 'F', 'H', 'G']\n"
          ]
        }
      ],
      "source": [
        "graph1={\n",
        "    'A':['C','D','G'],\n",
        "    'B':['A'],\n",
        "    'C':['A','D','F'],\n",
        "    'D':['A','C','E','G','H'],\n",
        "    'E':['D','F','H'],\n",
        "    'F':['C','E'],\n",
        "    'G':['A','D','H'],\n",
        "    'H':['D','E','G'],\n",
        "\n",
        "}\n",
        "print(\"The adjacency List representing the graph is:\")\n",
        "print(graph1)\n",
        "def dfs(graph,node,visited):\n",
        "  if node not in visited:\n",
        "    visited.append(node)\n",
        "    for k in graph[node]:\n",
        "      dfs(graph,k,visited)\n",
        "  return visited\n",
        "visited=dfs(graph1,'B',[])\n",
        "print(visited)"
      ]
    },
    {
      "cell_type": "markdown",
      "metadata": {
        "id": "XP4Vqxe-Un5T"
      },
      "source": [
        "Part-03:Implementation of A* Algorithm using Numpy"
      ]
    },
    {
      "cell_type": "code",
      "execution_count": null,
      "metadata": {
        "colab": {
          "background_save": true,
          "base_uri": "https://localhost:8080/"
        },
        "id": "xrfJeeVaUoha",
        "outputId": "205ef215-710f-41f7-8798-871acb917ab6"
      },
      "outputs": [
        {
          "name": "stderr",
          "output_type": "stream",
          "text": [
            "<ipython-input-11-da74f841ffea>:64: DeprecationWarning: Conversion of an array with ndim > 0 to a scalar is deprecated, and will error in future. Ensure you extract a single element from your array before performing this operation. (Deprecated NumPy 1.25.)\n",
            "  blank = int(np.where(puzzle == 0)[0])\n"
          ]
        }
      ],
      "source": [
        "\n",
        "from copy import deepcopy\n",
        "import numpy as np\n",
        "import time\n",
        "\n",
        "def bestsolution(state):\n",
        "    bestsol = np.array([], int).reshape(-1, 9)\n",
        "    count = len(state) - 1\n",
        "    while count != -1:\n",
        "        bestsol = np.insert(bestsol, 0, state[count]['puzzle'], 0)\n",
        "        count = (state[count]['parent'])\n",
        "    return bestsol.reshape(-1, 3, 3)\n",
        "\n",
        "\n",
        "# checks for the uniqueness of the iteration(it).\n",
        "def all(checkarray):\n",
        "    set=[]\n",
        "    for it in set:\n",
        "        for checkarray in it:\n",
        "          return 1\n",
        "        else:\n",
        "            return 0\n",
        "\n",
        "\n",
        "# number of misplaced tiles\n",
        "def misplaced_tiles(puzzle,goal):\n",
        "    mscost = np.sum(puzzle != goal) - 1\n",
        "    return mscost if mscost > 0 else 0\n",
        "\n",
        "\n",
        "def coordinates(puzzle):\n",
        "    pos = np.array(range(9))\n",
        "    for p, q in enumerate(puzzle):\n",
        "        pos[q] = p\n",
        "    return pos\n",
        "\n",
        "\n",
        "# start of 8 puzzle evaluvation, using Misplaced tiles heuristics\n",
        "def evaluvate_misplaced(puzzle, goal):\n",
        "    steps = np.array([('up', [0, 1, 2], -3),('down', [6, 7, 8],  3),\n",
        "     ('left', [0, 3, 6], -1),('right', [2, 5, 8],  1)],\n",
        "                     dtype =  [('move',  str, 1),('position', list),('head', int)])\n",
        "    dtstate = [('puzzle',  list),('parent', int),('gn',  int),('hn',  int)]\n",
        "    costg = coordinates(goal)\n",
        "\n",
        "    # initializing the parent, gn and hn, where hn is misplaced_tiles  function call\n",
        "    parent = -1\n",
        "    gn = 0\n",
        "    hn = misplaced_tiles(coordinates(puzzle), costg)\n",
        "    state = np.array([(puzzle, parent, gn, hn)], dtstate)\n",
        "\n",
        "   #priority queues with position as keys and fn as value.\n",
        "    dtpriority = [('position', int),('fn', int)]\n",
        "\n",
        "    priority = np.array([(0, hn)], dtpriority)\n",
        "\n",
        "    while 1:\n",
        "        priority = np.sort(priority, kind='mergesort', order=['fn', 'position'])\n",
        "        position, fn = priority[0]\n",
        "        # sort priority queue using merge sort,the first element is picked for exploring.\n",
        "        priority = np.delete(priority, 0, 0)\n",
        "        puzzle, parent, gn, hn = state[position]\n",
        "        puzzle = np.array(puzzle)\n",
        "\n",
        "        blank = int(np.where(puzzle == 0)[0])\n",
        "\n",
        "        gn = gn + 1\n",
        "        c = 1\n",
        "        start_time = time.time()\n",
        "        for s in steps:\n",
        "            c = c + 1\n",
        "            if blank not in s['position']:\n",
        "                openstates = deepcopy(puzzle)\n",
        "                openstates[blank], openstates[blank + s['head']] = openstates[blank + s['head']], openstates[blank]\n",
        "\n",
        "                if ~(np.all(list(state['puzzle']) == openstates, 1)).any():\n",
        "                    end_time = time.time()\n",
        "                    if (( end_time - start_time ) > 2):\n",
        "                        print(\" The 8 puzzle is unsolvable \\n\")\n",
        "                        break\n",
        "\n",
        "                    hn = misplaced_tiles(coordinates(openstates), costg)\n",
        "                    # generate and add new state in the list\n",
        "                    q = np.array([(openstates, position, gn, hn)], dtstate)\n",
        "                    state = np.append(state, q, 0)\n",
        "                    # f(n) is the sum of cost to reach node\n",
        "                    fn = gn + hn\n",
        "\n",
        "                    q = np.array([(len(state) - 1, fn)], dtpriority)\n",
        "                    priority = np.append(priority, q, 0)\n",
        "\n",
        "                    if np.array_equal(openstates, goal):\n",
        "                           print(' The 8 puzzle is solvable \\n')\n",
        "                           return state, len(priority)\n",
        "\n",
        "    return state, len(priority)\n",
        "\n",
        "\n",
        "# initial state\n",
        "puzzle = []\n",
        "\n",
        "puzzle.append(4)\n",
        "puzzle.append(1)\n",
        "puzzle.append(5)\n",
        "puzzle.append(3)\n",
        "puzzle.append(0)\n",
        "puzzle.append(7)\n",
        "puzzle.append(8)\n",
        "puzzle.append(6)\n",
        "puzzle.append(2)\n",
        "\n",
        "#goal state\n",
        "goal = []\n",
        "\n",
        "goal.append(1)\n",
        "goal.append(2)\n",
        "goal.append(3)\n",
        "goal.append(4)\n",
        "goal.append(5)\n",
        "goal.append(6)\n",
        "goal.append(7)\n",
        "goal.append(8)\n",
        "goal.append(0)\n",
        "\n",
        "\n",
        "state, visited = evaluvate_misplaced(puzzle, goal)\n",
        "bestpath = bestsolution(state)\n",
        "print(str(bestpath).replace('[', ' ').replace(']', ''))\n",
        "totalmoves = len(bestpath) - 1\n",
        "print('\\nSteps to reach goal:',totalmoves)\n",
        "visit = len(state) - visited\n",
        "print('Total nodes visited: ',visit, \"\\n\")\n",
        "\n",
        "\n"
      ]
    }
  ],
  "metadata": {
    "colab": {
      "provenance": [],
      "authorship_tag": "ABX9TyO3UoKzuQz45kWD2EAYmqG8",
      "include_colab_link": true
    },
    "kernelspec": {
      "display_name": "Python 3",
      "name": "python3"
    },
    "language_info": {
      "name": "python"
    }
  },
  "nbformat": 4,
  "nbformat_minor": 0
}
